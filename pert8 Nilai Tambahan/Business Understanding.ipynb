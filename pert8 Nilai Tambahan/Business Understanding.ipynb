{
 "cells": [
  {
   "cell_type": "markdown",
   "metadata": {},
   "source": [
    "# Bisnis Understanding : #\n",
    "\n",
    "Produk: Menjual kaos dari tim-tim Formula 1.\n",
    "1. Tujuan Bisnis: Memberikan akses kepada penggemar Formula 1 untuk membeli kaos dari tim favorit mereka.\n",
    "2. Model Bisnis: Penjualan langsung kepada pelanggan dengan menggunakan program komputer sebagai alat transaksi.\n",
    "3. Target Pelanggan: Penggemar Formula 1 yang ingin memiliki kaos dari tim favorit mereka.\n",
    "4. Nilai Tambah: Kemudahan bagi penggemar untuk mendapatkan kaos tim favorit mereka tanpa harus mencarinya secara langsung di      \n",
    "                 toko fisik.\n",
    "5. Keuntungan: \n",
    "    * Aplikasi ini memberikan kemudahan bagi penggemar Formula 1 untuk membeli merchandise favorit mereka.\n",
    "    * Pengguna dapat dengan cepat melihat stok merchandise dari beberapa tim Formula 1 dan membelinya secara langsung.\n",
    "    * Dengan implementasi yang lebih luas, aplikasi ini dapat menjadi platform e-commerce untuk merchandise Formula 1, menjangkau   \n",
    "      pasar yang lebih luas dan meningkatkan keuntungan bisnis.\n",
    "6. Kelemahan: Terbatasnya variasi produk karena hanya menawarkan kaos dari beberapa tim Formula 1 tertentu."
   ]
  }
 ],
 "metadata": {
  "language_info": {
   "name": "python"
  }
 },
 "nbformat": 4,
 "nbformat_minor": 2
}
