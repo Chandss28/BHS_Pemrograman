{
 "cells": [
  {
   "cell_type": "markdown",
   "metadata": {},
   "source": [
    "# RINGKASAN MATERI\n",
    "\n"
   ]
  },
  {
   "cell_type": "markdown",
   "metadata": {},
   "source": [
    "/\n",
    "1. DEFINISI\n",
    "\n",
    "-Array (Python): Struktur data untuk menyimpan dan mengorganisasi kumpulan data.\n",
    "\n",
    "-Data Structure: Penting bagi programmer untuk memahami dan menguasai cara menyimpan, mengatur, mengelompokkan, dan merepresentasikan data.\n",
    "\n",
    "2. SET\n",
    "\n",
    "-Set: Tipe data kolektif dalam Python yang digunakan untuk menyimpan beberapa nilai dalam satu variabel dengan ketentuan:\n",
    "\n",
    "1) Nilai unik: Tidak ada duplikasi.\n",
    "\n",
    "2) Tidak dapat diubah: Nilai yang sudah dimasukkan tidak bisa diubah lagi.\n",
    "\n",
    "3) Tidak berurutan: Tidak dapat diakses dengan indeks"
   ]
  },
  {
   "cell_type": "markdown",
   "metadata": {},
   "source": [
    "-Menggunakan kurung kurawal:"
   ]
  },
  {
   "cell_type": "code",
   "execution_count": null,
   "metadata": {
    "vscode": {
     "languageId": "plaintext"
    }
   },
   "outputs": [],
   "source": [
    "student_set = {'Huda', 'Lendis', 'Wahid', 'Basith'}\n",
    "print(student_set)"
   ]
  },
  {
   "cell_type": "markdown",
   "metadata": {},
   "source": [
    "-Mengubah list menjadi set:"
   ]
  },
  {
   "cell_type": "code",
   "execution_count": null,
   "metadata": {
    "vscode": {
     "languageId": "plaintext"
    }
   },
   "outputs": [],
   "source": [
    "fruit_set = set(['mango', 'Apple'])\n",
    "print(fruit_set)"
   ]
  },
  {
   "cell_type": "markdown",
   "metadata": {},
   "source": [
    "* copy() : Make acopy of one set into a new set\n",
    "* difference() : Performing the difference operation between two sets\n",
    "* difference_update() : Delete other set members that sre in the curent set\n",
    "* discard() : Removing one member from the set\n",
    "* intersection() : Performing a slice operation between two sets\n",
    "* intersection_update() : Updating the member that is the slice of two\n",
    "* isdisjoint() : Returns value True if two sets have no slice\n",
    "* issusbset() : Returns value True if another set has members from the current set\n",
    "* issuperset() : Returns value True if the current set has members from another set\n",
    "* pop() : Removes and returns deleted values from a set\n",
    "* remove() : Removing a value from a set"
   ]
  },
  {
   "cell_type": "markdown",
   "metadata": {},
   "source": [
    "* symmetric difference() : Perform the complement operation between two sets\n",
    "* symmetric difference_update() : Updating the set of complement results\n",
    "* union() : Performs a joint operation of two or more sets\n",
    "* update() : Updating the set by adding a specified value"
   ]
  }
 ],
 "metadata": {
  "language_info": {
   "name": "python"
  }
 },
 "nbformat": 4,
 "nbformat_minor": 2
}
